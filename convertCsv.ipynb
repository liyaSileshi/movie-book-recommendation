{
 "cells": [
  {
   "cell_type": "code",
   "execution_count": 9,
   "metadata": {},
   "outputs": [],
   "source": [
    "'''Changing the txt file to csv file'''\n",
    "\n",
    "# import csv\n",
    "\n",
    "# txt_file = r\"/Users/liyatilahun/Downloads/booksummaries/booksummaries.txt\"\n",
    "# csv_file = r\"book_detail.csv\"\n",
    "\n",
    "# with open(txt_file, \"r\") as in_text:\n",
    "#     in_reader = csv.reader(in_text, delimiter = '\\t')\n",
    "#     with open(csv_file, \"w\") as out_csv:\n",
    "#         out_writer = csv.writer(out_csv)\n",
    "#         for row in in_reader:\n",
    "#             out_writer.writerow(row)"
   ]
  },
  {
   "cell_type": "code",
   "execution_count": 44,
   "metadata": {},
   "outputs": [
    {
     "data": {
      "text/html": [
       "<div>\n",
       "<style scoped>\n",
       "    .dataframe tbody tr th:only-of-type {\n",
       "        vertical-align: middle;\n",
       "    }\n",
       "\n",
       "    .dataframe tbody tr th {\n",
       "        vertical-align: top;\n",
       "    }\n",
       "\n",
       "    .dataframe thead th {\n",
       "        text-align: right;\n",
       "    }\n",
       "</style>\n",
       "<table border=\"1\" class=\"dataframe\">\n",
       "  <thead>\n",
       "    <tr style=\"text-align: right;\">\n",
       "      <th></th>\n",
       "      <th>title</th>\n",
       "      <th>author</th>\n",
       "      <th>year</th>\n",
       "      <th>genre</th>\n",
       "    </tr>\n",
       "  </thead>\n",
       "  <tbody>\n",
       "    <tr>\n",
       "      <th>0</th>\n",
       "      <td>Animal Farm</td>\n",
       "      <td>George Orwell</td>\n",
       "      <td>1945-08-17</td>\n",
       "      <td>{\"/m/016lj8\": \"Roman \\u00e0 clef\", \"/m/06nbt\":...</td>\n",
       "    </tr>\n",
       "    <tr>\n",
       "      <th>1</th>\n",
       "      <td>A Clockwork Orange</td>\n",
       "      <td>Anthony Burgess</td>\n",
       "      <td>1962</td>\n",
       "      <td>{\"/m/06n90\": \"Science Fiction\", \"/m/0l67h\": \"N...</td>\n",
       "    </tr>\n",
       "    <tr>\n",
       "      <th>2</th>\n",
       "      <td>The Plague</td>\n",
       "      <td>Albert Camus</td>\n",
       "      <td>1947</td>\n",
       "      <td>{\"/m/02m4t\": \"Existentialism\", \"/m/02xlf\": \"Fi...</td>\n",
       "    </tr>\n",
       "    <tr>\n",
       "      <th>3</th>\n",
       "      <td>An Enquiry Concerning Human Understanding</td>\n",
       "      <td>David Hume</td>\n",
       "      <td>NaN</td>\n",
       "      <td>NaN</td>\n",
       "    </tr>\n",
       "    <tr>\n",
       "      <th>4</th>\n",
       "      <td>A Fire Upon the Deep</td>\n",
       "      <td>Vernor Vinge</td>\n",
       "      <td>NaN</td>\n",
       "      <td>{\"/m/03lrw\": \"Hard science fiction\", \"/m/06n90...</td>\n",
       "    </tr>\n",
       "  </tbody>\n",
       "</table>\n",
       "</div>"
      ],
      "text/plain": [
       "                                       title           author        year  \\\n",
       "0                                Animal Farm    George Orwell  1945-08-17   \n",
       "1                         A Clockwork Orange  Anthony Burgess        1962   \n",
       "2                                 The Plague     Albert Camus        1947   \n",
       "3  An Enquiry Concerning Human Understanding       David Hume         NaN   \n",
       "4                       A Fire Upon the Deep     Vernor Vinge         NaN   \n",
       "\n",
       "                                               genre  \n",
       "0  {\"/m/016lj8\": \"Roman \\u00e0 clef\", \"/m/06nbt\":...  \n",
       "1  {\"/m/06n90\": \"Science Fiction\", \"/m/0l67h\": \"N...  \n",
       "2  {\"/m/02m4t\": \"Existentialism\", \"/m/02xlf\": \"Fi...  \n",
       "3                                                NaN  \n",
       "4  {\"/m/03lrw\": \"Hard science fiction\", \"/m/06n90...  "
      ]
     },
     "metadata": {},
     "output_type": "display_data"
    }
   ],
   "source": [
    "import pandas as pd\n",
    "import numpy as np\n",
    "from sklearn.feature_extraction.text import CountVectorizer #histogram(array) representation of words\n",
    "from sklearn.metrics.pairwise import cosine_similarity #to calculate the cosine_similarity\n",
    "from sklearn import datasets\n",
    "from scipy import sparse\n",
    "import json\n",
    "\n",
    "#data from goodbooks-10k dataset\n",
    "df = pd.read_csv('book_detail.csv')\n",
    "df.drop(df.columns[[-1,-6,-7]], axis=1, inplace=True) #delete these column\n",
    "\n",
    "def display_all(df):\n",
    "    with pd.option_context(\"display.max_rows\", 1000, \"display.max_columns\", 1000): \n",
    "        display(df)\n",
    "        \n",
    "display_all(df.head())\n",
    "# print(df.keys())\n",
    "\n",
    "\n",
    "\n"
   ]
  },
  {
   "cell_type": "code",
   "execution_count": 45,
   "metadata": {},
   "outputs": [
    {
     "data": {
      "text/plain": [
       "(16559, 4)"
      ]
     },
     "execution_count": 45,
     "metadata": {},
     "output_type": "execute_result"
    }
   ],
   "source": [
    "df['genre']\n",
    "df.shape"
   ]
  },
  {
   "cell_type": "code",
   "execution_count": 3,
   "metadata": {},
   "outputs": [
    {
     "data": {
      "text/plain": [
       "0        1945-08-17\n",
       "1              1962\n",
       "2              1947\n",
       "3               NaN\n",
       "4               NaN\n",
       "            ...    \n",
       "16554    2012-09-25\n",
       "16555    2000-06-01\n",
       "16556    2010-11-16\n",
       "16557    2012-10-02\n",
       "16558          1846\n",
       "Name: year, Length: 16559, dtype: object"
      ]
     },
     "execution_count": 3,
     "metadata": {},
     "output_type": "execute_result"
    }
   ],
   "source": [
    "df['year']"
   ]
  },
  {
   "cell_type": "code",
   "execution_count": 46,
   "metadata": {},
   "outputs": [],
   "source": [
    "df.drop(df[df['genre']==''].index, inplace=True)"
   ]
  },
  {
   "cell_type": "code",
   "execution_count": 47,
   "metadata": {},
   "outputs": [
    {
     "data": {
      "text/plain": [
       "(16559, 4)"
      ]
     },
     "execution_count": 47,
     "metadata": {},
     "output_type": "execute_result"
    }
   ],
   "source": [
    "df.shape"
   ]
  },
  {
   "cell_type": "code",
   "execution_count": 24,
   "metadata": {},
   "outputs": [
    {
     "data": {
      "text/html": [
       "<div>\n",
       "<style scoped>\n",
       "    .dataframe tbody tr th:only-of-type {\n",
       "        vertical-align: middle;\n",
       "    }\n",
       "\n",
       "    .dataframe tbody tr th {\n",
       "        vertical-align: top;\n",
       "    }\n",
       "\n",
       "    .dataframe thead th {\n",
       "        text-align: right;\n",
       "    }\n",
       "</style>\n",
       "<table border=\"1\" class=\"dataframe\">\n",
       "  <thead>\n",
       "    <tr style=\"text-align: right;\">\n",
       "      <th></th>\n",
       "      <th>title</th>\n",
       "      <th>author</th>\n",
       "      <th>year</th>\n",
       "      <th>genre</th>\n",
       "    </tr>\n",
       "  </thead>\n",
       "  <tbody>\n",
       "  </tbody>\n",
       "</table>\n",
       "</div>"
      ],
      "text/plain": [
       "Empty DataFrame\n",
       "Columns: [title, author, year, genre]\n",
       "Index: []"
      ]
     },
     "execution_count": 24,
     "metadata": {},
     "output_type": "execute_result"
    }
   ],
   "source": [
    "df[df['genre']=='']"
   ]
  },
  {
   "cell_type": "code",
   "execution_count": 48,
   "metadata": {},
   "outputs": [
    {
     "data": {
      "text/plain": [
       "dict_values(['Roman à clef', 'Satire', \"Children's literature\", 'Speculative fiction', 'Fiction'])"
      ]
     },
     "execution_count": 48,
     "metadata": {},
     "output_type": "execute_result"
    }
   ],
   "source": [
    "json.loads(df['genre'][0]).values() #loading values from the json column for the first row"
   ]
  },
  {
   "cell_type": "code",
   "execution_count": 50,
   "metadata": {},
   "outputs": [],
   "source": [
    "df = df[df['genre'].notna()] #drop the NaN rows in column 'genre'\n",
    "# get the values from the genre column json object and append to a list\n",
    "genres = []\n",
    "for i in df['genre']:\n",
    "    genres.append(list(json.loads(i).values()))\n",
    "    \n",
    "# assign it to a new column\n",
    "df['genre_new'] = genres\n"
   ]
  },
  {
   "cell_type": "code",
   "execution_count": 53,
   "metadata": {},
   "outputs": [
    {
     "data": {
      "text/plain": [
       "0        {\"/m/016lj8\": \"Roman \\u00e0 clef\", \"/m/06nbt\":...\n",
       "1        {\"/m/06n90\": \"Science Fiction\", \"/m/0l67h\": \"N...\n",
       "2        {\"/m/02m4t\": \"Existentialism\", \"/m/02xlf\": \"Fi...\n",
       "4        {\"/m/03lrw\": \"Hard science fiction\", \"/m/06n90...\n",
       "5        {\"/m/098tmk\": \"War novel\", \"/m/016lj8\": \"Roman...\n",
       "                               ...                        \n",
       "16549                      {\"/m/06n90\": \"Science Fiction\"}\n",
       "16551    {\"/m/01jfsb\": \"Thriller\", \"/m/02xlf\": \"Fiction...\n",
       "16555     {\"/m/01jfsb\": \"Thriller\", \"/m/02xlf\": \"Fiction\"}\n",
       "16556                         {\"/m/0xdf\": \"Autobiography\"}\n",
       "16558    {\"/m/02ql9\": \"Epistolary novel\", \"/m/014dfn\": ...\n",
       "Name: genre, Length: 12841, dtype: object"
      ]
     },
     "execution_count": 53,
     "metadata": {},
     "output_type": "execute_result"
    }
   ],
   "source": [
    "df['genre']"
   ]
  },
  {
   "cell_type": "code",
   "execution_count": 54,
   "metadata": {},
   "outputs": [
    {
     "data": {
      "text/plain": [
       "(12841, 5)"
      ]
     },
     "execution_count": 54,
     "metadata": {},
     "output_type": "execute_result"
    }
   ],
   "source": [
    "df.shape"
   ]
  },
  {
   "cell_type": "code",
   "execution_count": 55,
   "metadata": {},
   "outputs": [
    {
     "data": {
      "text/plain": [
       "0        [Roman à clef, Satire, Children's literature, ...\n",
       "1        [Science Fiction, Novella, Speculative fiction...\n",
       "2        [Existentialism, Fiction, Absurdist fiction, N...\n",
       "4        [Hard science fiction, Science Fiction, Specul...\n",
       "5                                [War novel, Roman à clef]\n",
       "                               ...                        \n",
       "16549                                    [Science Fiction]\n",
       "16551                        [Thriller, Fiction, Suspense]\n",
       "16555                                  [Thriller, Fiction]\n",
       "16556                                      [Autobiography]\n",
       "16558              [Epistolary novel, Speculative fiction]\n",
       "Name: genre_new, Length: 12841, dtype: object"
      ]
     },
     "execution_count": 55,
     "metadata": {},
     "output_type": "execute_result"
    }
   ],
   "source": [
    "df['genre_new']"
   ]
  },
  {
   "cell_type": "code",
   "execution_count": 60,
   "metadata": {},
   "outputs": [
    {
     "data": {
      "text/html": [
       "<div>\n",
       "<style scoped>\n",
       "    .dataframe tbody tr th:only-of-type {\n",
       "        vertical-align: middle;\n",
       "    }\n",
       "\n",
       "    .dataframe tbody tr th {\n",
       "        vertical-align: top;\n",
       "    }\n",
       "\n",
       "    .dataframe thead th {\n",
       "        text-align: right;\n",
       "    }\n",
       "</style>\n",
       "<table border=\"1\" class=\"dataframe\">\n",
       "  <thead>\n",
       "    <tr style=\"text-align: right;\">\n",
       "      <th></th>\n",
       "      <th>title</th>\n",
       "      <th>author</th>\n",
       "      <th>year</th>\n",
       "      <th>genre</th>\n",
       "      <th>genre_new</th>\n",
       "    </tr>\n",
       "  </thead>\n",
       "  <tbody>\n",
       "    <tr>\n",
       "      <th>0</th>\n",
       "      <td>Animal Farm</td>\n",
       "      <td>George Orwell</td>\n",
       "      <td>1945-08-17</td>\n",
       "      <td>{\"/m/016lj8\": \"Roman \\u00e0 clef\", \"/m/06nbt\":...</td>\n",
       "      <td>[Roman à clef, Satire, Children's literature, ...</td>\n",
       "    </tr>\n",
       "    <tr>\n",
       "      <th>1</th>\n",
       "      <td>A Clockwork Orange</td>\n",
       "      <td>Anthony Burgess</td>\n",
       "      <td>1962</td>\n",
       "      <td>{\"/m/06n90\": \"Science Fiction\", \"/m/0l67h\": \"N...</td>\n",
       "      <td>[Science Fiction, Novella, Speculative fiction...</td>\n",
       "    </tr>\n",
       "    <tr>\n",
       "      <th>2</th>\n",
       "      <td>The Plague</td>\n",
       "      <td>Albert Camus</td>\n",
       "      <td>1947</td>\n",
       "      <td>{\"/m/02m4t\": \"Existentialism\", \"/m/02xlf\": \"Fi...</td>\n",
       "      <td>[Existentialism, Fiction, Absurdist fiction, N...</td>\n",
       "    </tr>\n",
       "    <tr>\n",
       "      <th>4</th>\n",
       "      <td>A Fire Upon the Deep</td>\n",
       "      <td>Vernor Vinge</td>\n",
       "      <td>NaN</td>\n",
       "      <td>{\"/m/03lrw\": \"Hard science fiction\", \"/m/06n90...</td>\n",
       "      <td>[Hard science fiction, Science Fiction, Specul...</td>\n",
       "    </tr>\n",
       "    <tr>\n",
       "      <th>5</th>\n",
       "      <td>All Quiet on the Western Front</td>\n",
       "      <td>Erich Maria Remarque</td>\n",
       "      <td>1929-01-29</td>\n",
       "      <td>{\"/m/098tmk\": \"War novel\", \"/m/016lj8\": \"Roman...</td>\n",
       "      <td>[War novel, Roman à clef]</td>\n",
       "    </tr>\n",
       "    <tr>\n",
       "      <th>...</th>\n",
       "      <td>...</td>\n",
       "      <td>...</td>\n",
       "      <td>...</td>\n",
       "      <td>...</td>\n",
       "      <td>...</td>\n",
       "    </tr>\n",
       "    <tr>\n",
       "      <th>16542</th>\n",
       "      <td>The Bourne Imperative</td>\n",
       "      <td>Robert Ludlum</td>\n",
       "      <td>2012-06-05</td>\n",
       "      <td>{\"/m/01jfsb\": \"Thriller\", \"/m/06wkf\": \"Spy fic...</td>\n",
       "      <td>[Thriller, Spy fiction]</td>\n",
       "    </tr>\n",
       "    <tr>\n",
       "      <th>16544</th>\n",
       "      <td>Heaven</td>\n",
       "      <td>V. C. Andrews</td>\n",
       "      <td>1985-10-15</td>\n",
       "      <td>{\"/m/039vk\": \"Gothic fiction\", \"/m/03mfnf\": \"Y...</td>\n",
       "      <td>[Gothic fiction, Young adult literature, Fiction]</td>\n",
       "    </tr>\n",
       "    <tr>\n",
       "      <th>16545</th>\n",
       "      <td>Dark Angel</td>\n",
       "      <td>V. C. Andrews</td>\n",
       "      <td>1986-11</td>\n",
       "      <td>{\"/m/039vk\": \"Gothic fiction\", \"/m/03mfnf\": \"Y...</td>\n",
       "      <td>[Gothic fiction, Young adult literature]</td>\n",
       "    </tr>\n",
       "    <tr>\n",
       "      <th>16546</th>\n",
       "      <td>Gates of Paradise</td>\n",
       "      <td>V. C. Andrews</td>\n",
       "      <td>1989-06</td>\n",
       "      <td>{\"/m/039vk\": \"Gothic fiction\", \"/m/03mfnf\": \"Y...</td>\n",
       "      <td>[Gothic fiction, Young adult literature]</td>\n",
       "    </tr>\n",
       "    <tr>\n",
       "      <th>16549</th>\n",
       "      <td>The Third Lynx</td>\n",
       "      <td>Timothy Zahn</td>\n",
       "      <td>2007</td>\n",
       "      <td>{\"/m/06n90\": \"Science Fiction\"}</td>\n",
       "      <td>[Science Fiction]</td>\n",
       "    </tr>\n",
       "  </tbody>\n",
       "</table>\n",
       "<p>12837 rows × 5 columns</p>\n",
       "</div>"
      ],
      "text/plain": [
       "                                title                author        year  \\\n",
       "0                         Animal Farm         George Orwell  1945-08-17   \n",
       "1                  A Clockwork Orange       Anthony Burgess        1962   \n",
       "2                          The Plague          Albert Camus        1947   \n",
       "4                A Fire Upon the Deep          Vernor Vinge         NaN   \n",
       "5      All Quiet on the Western Front  Erich Maria Remarque  1929-01-29   \n",
       "...                               ...                   ...         ...   \n",
       "16542           The Bourne Imperative         Robert Ludlum  2012-06-05   \n",
       "16544                          Heaven         V. C. Andrews  1985-10-15   \n",
       "16545                      Dark Angel         V. C. Andrews     1986-11   \n",
       "16546               Gates of Paradise         V. C. Andrews     1989-06   \n",
       "16549                  The Third Lynx          Timothy Zahn        2007   \n",
       "\n",
       "                                                   genre  \\\n",
       "0      {\"/m/016lj8\": \"Roman \\u00e0 clef\", \"/m/06nbt\":...   \n",
       "1      {\"/m/06n90\": \"Science Fiction\", \"/m/0l67h\": \"N...   \n",
       "2      {\"/m/02m4t\": \"Existentialism\", \"/m/02xlf\": \"Fi...   \n",
       "4      {\"/m/03lrw\": \"Hard science fiction\", \"/m/06n90...   \n",
       "5      {\"/m/098tmk\": \"War novel\", \"/m/016lj8\": \"Roman...   \n",
       "...                                                  ...   \n",
       "16542  {\"/m/01jfsb\": \"Thriller\", \"/m/06wkf\": \"Spy fic...   \n",
       "16544  {\"/m/039vk\": \"Gothic fiction\", \"/m/03mfnf\": \"Y...   \n",
       "16545  {\"/m/039vk\": \"Gothic fiction\", \"/m/03mfnf\": \"Y...   \n",
       "16546  {\"/m/039vk\": \"Gothic fiction\", \"/m/03mfnf\": \"Y...   \n",
       "16549                    {\"/m/06n90\": \"Science Fiction\"}   \n",
       "\n",
       "                                               genre_new  \n",
       "0      [Roman à clef, Satire, Children's literature, ...  \n",
       "1      [Science Fiction, Novella, Speculative fiction...  \n",
       "2      [Existentialism, Fiction, Absurdist fiction, N...  \n",
       "4      [Hard science fiction, Science Fiction, Specul...  \n",
       "5                              [War novel, Roman à clef]  \n",
       "...                                                  ...  \n",
       "16542                            [Thriller, Spy fiction]  \n",
       "16544  [Gothic fiction, Young adult literature, Fiction]  \n",
       "16545           [Gothic fiction, Young adult literature]  \n",
       "16546           [Gothic fiction, Young adult literature]  \n",
       "16549                                  [Science Fiction]  \n",
       "\n",
       "[12837 rows x 5 columns]"
      ]
     },
     "execution_count": 60,
     "metadata": {},
     "output_type": "execute_result"
    }
   ],
   "source": [
    "#drop the genre column\n",
    "df.drop(df.columns[[-2]], axis=1, inplace=True)\n",
    "df"
   ]
  },
  {
   "cell_type": "code",
   "execution_count": null,
   "metadata": {},
   "outputs": [],
   "source": []
  }
 ],
 "metadata": {
  "kernelspec": {
   "display_name": "Python 3",
   "language": "python",
   "name": "python3"
  },
  "language_info": {
   "codemirror_mode": {
    "name": "ipython",
    "version": 3
   },
   "file_extension": ".py",
   "mimetype": "text/x-python",
   "name": "python",
   "nbconvert_exporter": "python",
   "pygments_lexer": "ipython3",
   "version": "3.7.4"
  }
 },
 "nbformat": 4,
 "nbformat_minor": 4
}
