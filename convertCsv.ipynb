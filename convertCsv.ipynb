{
 "cells": [
  {
   "cell_type": "code",
   "execution_count": 9,
   "metadata": {},
   "outputs": [],
   "source": [
    "'''Changing the txt file to csv file'''\n",
    "\n",
    "# import csv\n",
    "\n",
    "# txt_file = r\"/Users/liyatilahun/Downloads/booksummaries/booksummaries.txt\"\n",
    "# csv_file = r\"book_detail.csv\"\n",
    "\n",
    "# with open(txt_file, \"r\") as in_text:\n",
    "#     in_reader = csv.reader(in_text, delimiter = '\\t')\n",
    "#     with open(csv_file, \"w\") as out_csv:\n",
    "#         out_writer = csv.writer(out_csv)\n",
    "#         for row in in_reader:\n",
    "#             out_writer.writerow(row)"
   ]
  },
  {
   "cell_type": "code",
   "execution_count": 11,
   "metadata": {},
   "outputs": [
    {
     "data": {
      "text/html": [
       "<div>\n",
       "<style scoped>\n",
       "    .dataframe tbody tr th:only-of-type {\n",
       "        vertical-align: middle;\n",
       "    }\n",
       "\n",
       "    .dataframe tbody tr th {\n",
       "        vertical-align: top;\n",
       "    }\n",
       "\n",
       "    .dataframe thead th {\n",
       "        text-align: right;\n",
       "    }\n",
       "</style>\n",
       "<table border=\"1\" class=\"dataframe\">\n",
       "  <thead>\n",
       "    <tr style=\"text-align: right;\">\n",
       "      <th></th>\n",
       "      <th>title</th>\n",
       "      <th>author</th>\n",
       "      <th>year</th>\n",
       "      <th>genre</th>\n",
       "    </tr>\n",
       "  </thead>\n",
       "  <tbody>\n",
       "    <tr>\n",
       "      <th>0</th>\n",
       "      <td>Animal Farm</td>\n",
       "      <td>George Orwell</td>\n",
       "      <td>1945-08-17</td>\n",
       "      <td>{\"/m/016lj8\": \"Roman \\u00e0 clef\", \"/m/06nbt\":...</td>\n",
       "    </tr>\n",
       "    <tr>\n",
       "      <th>1</th>\n",
       "      <td>A Clockwork Orange</td>\n",
       "      <td>Anthony Burgess</td>\n",
       "      <td>1962</td>\n",
       "      <td>{\"/m/06n90\": \"Science Fiction\", \"/m/0l67h\": \"N...</td>\n",
       "    </tr>\n",
       "    <tr>\n",
       "      <th>2</th>\n",
       "      <td>The Plague</td>\n",
       "      <td>Albert Camus</td>\n",
       "      <td>1947</td>\n",
       "      <td>{\"/m/02m4t\": \"Existentialism\", \"/m/02xlf\": \"Fi...</td>\n",
       "    </tr>\n",
       "    <tr>\n",
       "      <th>3</th>\n",
       "      <td>An Enquiry Concerning Human Understanding</td>\n",
       "      <td>David Hume</td>\n",
       "      <td>NaN</td>\n",
       "      <td>NaN</td>\n",
       "    </tr>\n",
       "    <tr>\n",
       "      <th>4</th>\n",
       "      <td>A Fire Upon the Deep</td>\n",
       "      <td>Vernor Vinge</td>\n",
       "      <td>NaN</td>\n",
       "      <td>{\"/m/03lrw\": \"Hard science fiction\", \"/m/06n90...</td>\n",
       "    </tr>\n",
       "  </tbody>\n",
       "</table>\n",
       "</div>"
      ],
      "text/plain": [
       "                                       title           author        year  \\\n",
       "0                                Animal Farm    George Orwell  1945-08-17   \n",
       "1                         A Clockwork Orange  Anthony Burgess        1962   \n",
       "2                                 The Plague     Albert Camus        1947   \n",
       "3  An Enquiry Concerning Human Understanding       David Hume         NaN   \n",
       "4                       A Fire Upon the Deep     Vernor Vinge         NaN   \n",
       "\n",
       "                                               genre  \n",
       "0  {\"/m/016lj8\": \"Roman \\u00e0 clef\", \"/m/06nbt\":...  \n",
       "1  {\"/m/06n90\": \"Science Fiction\", \"/m/0l67h\": \"N...  \n",
       "2  {\"/m/02m4t\": \"Existentialism\", \"/m/02xlf\": \"Fi...  \n",
       "3                                                NaN  \n",
       "4  {\"/m/03lrw\": \"Hard science fiction\", \"/m/06n90...  "
      ]
     },
     "metadata": {},
     "output_type": "display_data"
    }
   ],
   "source": [
    "import pandas as pd\n",
    "import numpy as np\n",
    "from sklearn.feature_extraction.text import CountVectorizer #histogram(array) representation of words\n",
    "from sklearn.metrics.pairwise import cosine_similarity #to calculate the cosine_similarity\n",
    "from sklearn import datasets\n",
    "from scipy import sparse\n",
    "\n",
    "#data from goodbooks-10k dataset\n",
    "df = pd.read_csv('book_detail.csv')\n",
    "df.drop(df.columns[[-1,-6,-7]], axis=1, inplace=True) #delete the last column\n",
    "\n",
    "def display_all(df):\n",
    "    with pd.option_context(\"display.max_rows\", 1000, \"display.max_columns\", 1000): \n",
    "        display(df)\n",
    "        \n",
    "display_all(df.head())\n",
    "# print(df.keys())\n",
    "\n",
    "\n",
    "\n"
   ]
  },
  {
   "cell_type": "code",
   "execution_count": 12,
   "metadata": {},
   "outputs": [
    {
     "data": {
      "text/plain": [
       "0        {\"/m/016lj8\": \"Roman \\u00e0 clef\", \"/m/06nbt\":...\n",
       "1        {\"/m/06n90\": \"Science Fiction\", \"/m/0l67h\": \"N...\n",
       "2        {\"/m/02m4t\": \"Existentialism\", \"/m/02xlf\": \"Fi...\n",
       "3                                                      NaN\n",
       "4        {\"/m/03lrw\": \"Hard science fiction\", \"/m/06n90...\n",
       "                               ...                        \n",
       "16554                                                  NaN\n",
       "16555     {\"/m/01jfsb\": \"Thriller\", \"/m/02xlf\": \"Fiction\"}\n",
       "16556                         {\"/m/0xdf\": \"Autobiography\"}\n",
       "16557                                                  NaN\n",
       "16558    {\"/m/02ql9\": \"Epistolary novel\", \"/m/014dfn\": ...\n",
       "Name: genre, Length: 16559, dtype: object"
      ]
     },
     "execution_count": 12,
     "metadata": {},
     "output_type": "execute_result"
    }
   ],
   "source": [
    "df['genre']"
   ]
  },
  {
   "cell_type": "code",
   "execution_count": null,
   "metadata": {},
   "outputs": [],
   "source": []
  }
 ],
 "metadata": {
  "kernelspec": {
   "display_name": "Python 3",
   "language": "python",
   "name": "python3"
  },
  "language_info": {
   "codemirror_mode": {
    "name": "ipython",
    "version": 3
   },
   "file_extension": ".py",
   "mimetype": "text/x-python",
   "name": "python",
   "nbconvert_exporter": "python",
   "pygments_lexer": "ipython3",
   "version": "3.7.4"
  }
 },
 "nbformat": 4,
 "nbformat_minor": 4
}
